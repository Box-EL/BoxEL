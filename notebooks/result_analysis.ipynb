{
 "cells": [
  {
   "cell_type": "code",
   "execution_count": 12,
   "metadata": {},
   "outputs": [],
   "source": [
    "import pandas as pd\n",
    "\n",
    "df = pd.read_csv('./logs/galen_result.txt',sep=' ')\n",
    "infer_result = df.iloc[1::2]\n",
    "test_result = df.iloc[::2]"
   ]
  },
  {
   "cell_type": "code",
   "execution_count": 14,
   "metadata": {},
   "outputs": [
    {
     "data": {
      "text/plain": [
       "seed           5100.500000\n",
       "top1              0.000000\n",
       "top10             0.007245\n",
       "top100            0.102475\n",
       "mean_rank      2922.351758\n",
       "median_rank     953.500000\n",
       "per_rank       9238.275000\n",
       "auc               0.873093\n",
       "acc               0.664957\n",
       "dtype: float64"
      ]
     },
     "execution_count": 14,
     "metadata": {},
     "output_type": "execute_result"
    }
   ],
   "source": [
    "test_result.mean()"
   ]
  },
  {
   "cell_type": "code",
   "execution_count": 18,
   "metadata": {},
   "outputs": [
    {
     "data": {
      "text/plain": [
       "seed           3208.505753\n",
       "top1              0.000000\n",
       "top10             0.001629\n",
       "top100            0.005258\n",
       "mean_rank        28.953948\n",
       "median_rank      23.427489\n",
       "per_rank        313.629866\n",
       "auc               0.001230\n",
       "acc               0.004896\n",
       "dtype: float64"
      ]
     },
     "execution_count": 18,
     "metadata": {},
     "output_type": "execute_result"
    }
   ],
   "source": [
    "test_result.std()"
   ]
  },
  {
   "cell_type": "code",
   "execution_count": null,
   "metadata": {},
   "outputs": [],
   "source": []
  }
 ],
 "metadata": {
  "kernelspec": {
   "display_name": "box",
   "language": "python",
   "name": "box"
  },
  "language_info": {
   "codemirror_mode": {
    "name": "ipython",
    "version": 3
   },
   "file_extension": ".py",
   "mimetype": "text/x-python",
   "name": "python",
   "nbconvert_exporter": "python",
   "pygments_lexer": "ipython3",
   "version": "3.6.13"
  }
 },
 "nbformat": 4,
 "nbformat_minor": 2
}
