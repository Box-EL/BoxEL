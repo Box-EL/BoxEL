{
 "cells": [
  {
   "cell_type": "code",
   "execution_count": 3,
   "metadata": {},
   "outputs": [],
   "source": [
    "\n",
    "import time\n",
    "import wandb\n",
    "import torch\n",
    "from torch.utils.data import DataLoader\n",
    "import math\n",
    "import argparse\n",
    "import os\n",
    "import json\n",
    "from utils import *\n",
    "from dataset import *\n",
    "\n",
    "torch.cuda.set_device(1)\n",
    "device = torch.device(\"cuda\" if torch.cuda.is_available() else \"cpu\")\n"
   ]
  },
  {
   "cell_type": "code",
   "execution_count": 4,
   "metadata": {},
   "outputs": [],
   "source": [
    "parser = argparse.ArgumentParser()\n",
    "\n",
    "parser.add_argument('--no_cuda', action='store_true', default=False, help='disables CUDA training (eg. no nvidia GPU)')\n",
    "parser.add_argument('--epochs', type=int, default=1000, help='number of epochs to train')\n",
    "# model parameters\n",
    "parser.add_argument('--model', type=str, default='softbox', help='model type: choose from softbox, gumbel')\n",
    "parser.add_argument('--box_embedding_dim', type=int, default=40, help='box embedding dimension')\n",
    "parser.add_argument('--softplus_temp', type=float, default=1.0, help='beta of softplus function')\n",
    "# gumbel box parameters\n",
    "parser.add_argument('--gumbel_beta', type=float, default=1.0, help='beta value for gumbel distribution')\n",
    "parser.add_argument('--scale', type=float, default=1.0, help='scale value for gumbel distribution')\n",
    "\n",
    "args = parser.parse_args(args=[] )\n",
    "args.save_to = \"./checkpoints/\" + args.model\n"
   ]
  },
  {
   "cell_type": "code",
   "execution_count": 5,
   "metadata": {},
   "outputs": [],
   "source": [
    "\n",
    "\n",
    "\n",
    "eps = 1e-23\n",
    "def l2_side_regularizer(box, log_scale: bool = True):\n",
    "    \"\"\"Applies l2 regularization on all sides of all boxes and returns the sum.\n",
    "    \"\"\"\n",
    "    min_x = box.min_embed \n",
    "    delta_x = box.delta_embed  \n",
    "\n",
    "    if not log_scale:\n",
    "        return torch.mean(delta_x ** 2)\n",
    "    else:\n",
    "        return torch.mean(F.relu(min_x + delta_x - 1 + eps )) +  torch.mean(F.relu(-min_x - eps)) #+ F.relu(torch.norm(min_x, p=2)-1)\n",
    "    \n",
    "    "
   ]
  },
  {
   "cell_type": "code",
   "execution_count": null,
   "metadata": {},
   "outputs": [],
   "source": [
    "from box_model import BoxEL \n",
    "from box_model import BoxEL as Model\n",
    "import torch\n",
    "from data_loader import load_cls,load_valid_data\n",
    "from data_loader import load_data\n",
    "from data_loader import Generator\n",
    "from evaluation import compute_mean_rank,compute_rank,compute_accuracy\n"
   ]
  },
  {
   "cell_type": "code",
   "execution_count": null,
   "metadata": {},
   "outputs": [
    {
     "name": "stdout",
     "output_type": "stream",
     "text": [
      "Training data samples: 19511\n",
      "Training data classes: 18290\n"
     ]
    }
   ],
   "source": [
    "\n",
    "dataset = 'GALEN'\n",
    "\n",
    "total_sub_cls=[]\n",
    "train_file = f\"data/{dataset}/{dataset}_train.txt\"\n",
    "va_file = f\"data/{dataset}/{dataset}_valid.txt\"\n",
    "test_file = f\"data/{dataset}/{dataset}_test.txt\"\n",
    "train_sub_cls,train_samples = load_cls(train_file)\n",
    "valid_sub_cls,valid_samples = load_cls(va_file)\n",
    "test_sub_cls,test_samples = load_cls(test_file)\n",
    "total_sub_cls = train_sub_cls + valid_sub_cls + test_sub_cls\n",
    "all_subcls = list(set(total_sub_cls))\n",
    "\n",
    "print(\"Training data samples:\",train_samples)\n",
    "print(\"Training data classes:\",len(train_sub_cls))\n",
    "\n",
    "gdata_file=f\"data/{dataset}/{dataset}_latest_norm_mod.owl\"\n",
    "train_data, classes, relations = load_data(gdata_file)\n",
    "valid_data_file=f\"data/{dataset}/{dataset}_valid.txt\"\n",
    "valid_data = load_valid_data(valid_data_file, classes, relations)\n",
    "valid_data = torch.Tensor(valid_data).long().to(device)\n"
   ]
  },
  {
   "cell_type": "code",
   "execution_count": 106,
   "metadata": {},
   "outputs": [
    {
     "data": {
      "text/plain": [
       "{'nf1': array([[21499,     0,  6102],\n",
       "        [15730,     0, 22324],\n",
       "        [ 5727,     0, 19714],\n",
       "        ...,\n",
       "        [22156,     0,  1050],\n",
       "        [  341,     0,  1171],\n",
       "        [12441,     0,  9906]]), 'nf2': array([[16603,    54, 20427],\n",
       "        [ 7789,  6948,  3171],\n",
       "        [15112,  1435,  2670],\n",
       "        ...,\n",
       "        [ 7510,   826, 21574],\n",
       "        [    3,  8633,  6233],\n",
       "        [ 8616,   536,  7936]]), 'nf3': array([[15641,     8,   190],\n",
       "        [ 8868,    11,  2333],\n",
       "        [16621,    27,  3046],\n",
       "        ...,\n",
       "        [  688,   143,  2890],\n",
       "        [10425,     8, 18603],\n",
       "        [ 7068,   136,  6205]]), 'nf4': array([[   57, 16006, 17463],\n",
       "        [   35,  7247, 13880],\n",
       "        [  118, 10623,  4373],\n",
       "        ...,\n",
       "        [    6, 15205, 14928],\n",
       "        [   35, 15171, 19209],\n",
       "        [   68, 14056, 16778]]), 'disjoint': array([[0, 0]]), 'nf_inclusion': array([[ 24, 501],\n",
       "        [753,  28],\n",
       "        [261, 512],\n",
       "        ...,\n",
       "        [ 78, 933],\n",
       "        [291, 294],\n",
       "        [793, 443]]), 'nf_chain': array([[ 209,  416,  417],\n",
       "        [ 209,   80,  756],\n",
       "        [ 209,   51,  441],\n",
       "        [ 209,  136,  375],\n",
       "        [ 209,  116,  986],\n",
       "        [ 209,  118,  987],\n",
       "        [ 209,  312,  545],\n",
       "        [ 209,  485,  486],\n",
       "        [ 209,  285,  286],\n",
       "        [ 209,  400,  401],\n",
       "        [ 209,  210,  211],\n",
       "        [ 209,  183,  543],\n",
       "        [ 209,  151, 1009],\n",
       "        [ 209,  326,  368],\n",
       "        [ 209,  279,  280],\n",
       "        [ 209,   85, 1005],\n",
       "        [ 209,  396,  397],\n",
       "        [ 209,  346, 1006],\n",
       "        [ 209,  632,  633],\n",
       "        [ 209,  152,  590],\n",
       "        [ 209,  186,  414],\n",
       "        [ 209,  825,  907],\n",
       "        [ 209,  424,  425],\n",
       "        [ 209,   45,  665],\n",
       "        [ 209,  196,  395],\n",
       "        [ 209,   62,  328],\n",
       "        [ 209,  302, 1007],\n",
       "        [ 209,  110,  420],\n",
       "        [ 209,  559,  835],\n",
       "        [ 209,   28,  399],\n",
       "        [ 209,  126,  402],\n",
       "        [ 209,  189,  377],\n",
       "        [ 209,  171,  224],\n",
       "        [ 209,   67,  423],\n",
       "        [ 209,    1,  269],\n",
       "        [ 209,   68,  419],\n",
       "        [ 209,  310,  940],\n",
       "        [ 209,   61,  406],\n",
       "        [ 209,  166,  421],\n",
       "        [ 209,  360,  361],\n",
       "        [ 209,  250,  391],\n",
       "        [ 209,   73,  493],\n",
       "        [ 209,  219, 1004],\n",
       "        [ 209,  105, 1008],\n",
       "        [ 209,  387,  917],\n",
       "        [ 209,  226,  379],\n",
       "        [ 209,  623,  996],\n",
       "        [ 209,   48,  246],\n",
       "        [ 209,  469,  470],\n",
       "        [ 209,  366,  422],\n",
       "        [ 209,    9,  363],\n",
       "        [ 209,  168,  985],\n",
       "        [ 209,  216,  380],\n",
       "        [ 209,   29,  408],\n",
       "        [ 209,  129,  562],\n",
       "        [ 209,   39,  254],\n",
       "        [ 209,  410,  411],\n",
       "        [ 209,  146,  334]]), 'nf1_neg': array([[12331,     0, 21052],\n",
       "        [11914,     0,  6255],\n",
       "        [12746,     0,    48],\n",
       "        ...,\n",
       "        [19457,     0, 11975],\n",
       "        [ 7729,     0, 11461],\n",
       "        [ 3131,     0,  4326]]), 'top': array([24351])}"
      ]
     },
     "execution_count": 106,
     "metadata": {},
     "output_type": "execute_result"
    }
   ],
   "source": [
    "train_data"
   ]
  },
  {
   "cell_type": "code",
   "execution_count": 109,
   "metadata": {},
   "outputs": [
    {
     "name": "stdout",
     "output_type": "stream",
     "text": [
      "no. classes: 24352\n",
      "no. relations: 1010\n"
     ]
    }
   ],
   "source": [
    "batch_size = 256\n",
    "\n",
    "nb_classes = len(classes)\n",
    "nb_relations = len(relations)\n",
    "\n",
    "print(\"no. classes:\",nb_classes)\n",
    "print(\"no. relations:\",nb_relations)\n",
    "nb_train_data = 0\n",
    "\n",
    "for key, val in train_data.items():\n",
    "    nb_train_data = max(len(val), nb_train_data)\n",
    "train_steps = int(math.ceil(nb_train_data / (1.0 * batch_size)))\n",
    "train_generator = Generator(train_data, batch_size, steps=train_steps)\n",
    "\n",
    "cls_dict = {v: k for k, v in classes.items()}\n",
    "rel_dict = {v: k for k, v in relations.items()}\n",
    "\n",
    "cls_list = []\n",
    "rel_list = []\n",
    "for i in range(nb_classes):\n",
    "    cls_list.append(cls_dict[i])\n",
    "for i in range(nb_relations):\n",
    "    rel_list.append(rel_dict[i])\n",
    "\n",
    "classes_index = list(classes.values())\n",
    "classes_index = torch.Tensor(classes_index).to(device).reshape(-1,1).long()\n"
   ]
  },
  {
   "cell_type": "code",
   "execution_count": 110,
   "metadata": {},
   "outputs": [
    {
     "data": {
      "text/html": [
       "Finishing last run (ID:1zto10uh) before initializing another..."
      ],
      "text/plain": [
       "<IPython.core.display.HTML object>"
      ]
     },
     "metadata": {},
     "output_type": "display_data"
    },
    {
     "data": {
      "text/html": [
       "<br/>Waiting for W&B process to finish, PID 2343903<br/>Program ended successfully."
      ],
      "text/plain": [
       "<IPython.core.display.HTML object>"
      ]
     },
     "metadata": {},
     "output_type": "display_data"
    },
    {
     "data": {
      "application/vnd.jupyter.widget-view+json": {
       "model_id": "",
       "version_major": 2,
       "version_minor": 0
      },
      "text/plain": [
       "VBox(children=(Label(value=' 0.00MB of 0.00MB uploaded (0.00MB deduped)\\r'), FloatProgress(value=1.0, max=1.0)…"
      ]
     },
     "metadata": {},
     "output_type": "display_data"
    },
    {
     "data": {
      "text/html": [
       "Find user logs for this run at: <code>/workspace/geometric/box_el/wandb/run-20211011_151510-1zto10uh/logs/debug.log</code>"
      ],
      "text/plain": [
       "<IPython.core.display.HTML object>"
      ]
     },
     "metadata": {},
     "output_type": "display_data"
    },
    {
     "data": {
      "text/html": [
       "Find internal logs for this run at: <code>/workspace/geometric/box_el/wandb/run-20211011_151510-1zto10uh/logs/debug-internal.log</code>"
      ],
      "text/plain": [
       "<IPython.core.display.HTML object>"
      ]
     },
     "metadata": {},
     "output_type": "display_data"
    },
    {
     "data": {
      "text/html": [
       "<h3>Run summary:</h3><br/><style>\n",
       "    table.wandb td:nth-child(1) { padding: 0 10px; text-align: right }\n",
       "    </style><table class=\"wandb\">\n",
       "<tr><td>train loss</td><td>49.82947</td></tr><tr><td>nf1_loss</td><td>0.21455</td></tr><tr><td>nf2_loss</td><td>0.17634</td></tr><tr><td>nf3_loss</td><td>0.10427</td></tr><tr><td>nf4_loss</td><td>0.05738</td></tr><tr><td>mean_rank</td><td>830.44</td></tr><tr><td>valid_accuracy</td><td>0.99318</td></tr><tr><td>_runtime</td><td>1350</td></tr><tr><td>_timestamp</td><td>1633959464</td></tr><tr><td>_step</td><td>362</td></tr></table>"
      ],
      "text/plain": [
       "<IPython.core.display.HTML object>"
      ]
     },
     "metadata": {},
     "output_type": "display_data"
    },
    {
     "data": {
      "text/html": [
       "<h3>Run history:</h3><br/><style>\n",
       "    table.wandb td:nth-child(1) { padding: 0 10px; text-align: right }\n",
       "    </style><table class=\"wandb\">\n",
       "<tr><td>train loss</td><td>██▆▅▄▃▃▃▂▂▂▂▂▂▂▂▂▁▁▁▁▁▁▁▁▁▁▁▁▁▁▁▁▁▁▁▁▁▁▁</td></tr><tr><td>nf1_loss</td><td>▁▅█▆▄▃▃▃▃▃▂▂▂▂▂▂▂▂▂▂▂▂▂▂▂▂▂▂▂▂▁▂▂▂▂▂▂▂▂▂</td></tr><tr><td>nf2_loss</td><td>▁▅█▆▄▃▃▂▂▂▂▂▂▂▂▂▂▂▂▂▂▂▂▁▁▁▁▁▁▁▁▁▁▁▁▁▁▁▁▁</td></tr><tr><td>nf3_loss</td><td>▁▆█▅▃▃▃▂▂▂▂▂▂▂▂▂▂▂▂▁▂▁▁▂▁▁▁▁▁▂▂▂▁▁▁▁▁▁▂▁</td></tr><tr><td>nf4_loss</td><td>▁▆█▅▄▃▃▂▂▂▂▂▂▂▂▂▂▂▂▂▂▂▁▂▂▁▂▂▁▁▁▂▁▂▁▁▁▁▂▁</td></tr><tr><td>mean_rank</td><td>█▇▅▄▃▂▂▂▂▂▂▂▂▁▁▁▁▁▁▁▁▁▁▁▁▁▁▁▁▁▁▁▁▁▁▁▁▁▁▁</td></tr><tr><td>valid_accuracy</td><td>█▃▁▂▅▅▅▅▆▆▆▇▇▆▇▆▇▇▇▇▇▇▇▇▇▇▇▇▇▇▇▇▇▇▆▇▇▇▇▇</td></tr><tr><td>_runtime</td><td>▁▁▁▁▂▂▂▂▂▃▃▃▃▃▃▄▄▄▄▄▅▅▅▅▅▅▆▆▆▆▆▇▇▇▇▇▇███</td></tr><tr><td>_timestamp</td><td>▁▁▁▁▂▂▂▂▂▃▃▃▃▃▃▄▄▄▄▄▅▅▅▅▅▅▆▆▆▆▆▇▇▇▇▇▇███</td></tr><tr><td>_step</td><td>▁▁▁▁▂▂▂▂▂▃▃▃▃▃▃▄▄▄▄▄▅▅▅▅▅▅▆▆▆▆▆▇▇▇▇▇▇███</td></tr></table><br/>"
      ],
      "text/plain": [
       "<IPython.core.display.HTML object>"
      ]
     },
     "metadata": {},
     "output_type": "display_data"
    },
    {
     "data": {
      "text/html": [
       "Synced 6 W&B file(s), 0 media file(s), 0 artifact file(s) and 0 other file(s)"
      ],
      "text/plain": [
       "<IPython.core.display.HTML object>"
      ]
     },
     "metadata": {},
     "output_type": "display_data"
    },
    {
     "data": {
      "text/html": [
       "\n",
       "                    <br/>Synced <strong style=\"color:#cdcd00\">clean-frost-177</strong>: <a href=\"https://wandb.ai/boxiong/basic_box/runs/1zto10uh\" target=\"_blank\">https://wandb.ai/boxiong/basic_box/runs/1zto10uh</a><br/>\n",
       "                "
      ],
      "text/plain": [
       "<IPython.core.display.HTML object>"
      ]
     },
     "metadata": {},
     "output_type": "display_data"
    },
    {
     "data": {
      "text/html": [
       "...Successfully finished last run (ID:1zto10uh). Initializing new run:<br/><br/>"
      ],
      "text/plain": [
       "<IPython.core.display.HTML object>"
      ]
     },
     "metadata": {},
     "output_type": "display_data"
    },
    {
     "name": "stderr",
     "output_type": "stream",
     "text": [
      "wandb: wandb version 0.12.4 is available!  To upgrade, please run:\n",
      "wandb:  $ pip install wandb --upgrade\n"
     ]
    },
    {
     "data": {
      "text/html": [
       "\n",
       "                Tracking run with wandb version 0.12.0<br/>\n",
       "                Syncing run <strong style=\"color:#cdcd00\">prime-firebrand-179</strong> to <a href=\"https://wandb.ai\" target=\"_blank\">Weights & Biases</a> <a href=\"https://docs.wandb.com/integrations/jupyter.html\" target=\"_blank\">(Documentation)</a>.<br/>\n",
       "                Project page: <a href=\"https://wandb.ai/boxiong/basic_box\" target=\"_blank\">https://wandb.ai/boxiong/basic_box</a><br/>\n",
       "                Run page: <a href=\"https://wandb.ai/boxiong/basic_box/runs/2aoy67rf\" target=\"_blank\">https://wandb.ai/boxiong/basic_box/runs/2aoy67rf</a><br/>\n",
       "                Run data is saved locally in <code>/workspace/geometric/box_el/wandb/run-20211011_155027-2aoy67rf</code><br/><br/>\n",
       "            "
      ],
      "text/plain": [
       "<IPython.core.display.HTML object>"
      ]
     },
     "metadata": {},
     "output_type": "display_data"
    },
    {
     "data": {
      "text/html": [
       "<h1>Run(2aoy67rf)</h1><iframe src=\"https://wandb.ai/boxiong/basic_box/runs/2aoy67rf\" style=\"border:none;width:100%;height:400px\"></iframe>"
      ],
      "text/plain": [
       "<wandb.sdk.wandb_run.Run at 0x7f987234e860>"
      ]
     },
     "execution_count": 110,
     "metadata": {},
     "output_type": "execute_result"
    }
   ],
   "source": [
    "# \n",
    "wandb.init(project=\"basic_box\", reinit=True, config=args)\n"
   ]
  },
  {
   "cell_type": "code",
   "execution_count": 114,
   "metadata": {},
   "outputs": [
    {
     "data": {
      "text/plain": [
       "[]"
      ]
     },
     "execution_count": 114,
     "metadata": {},
     "output_type": "execute_result"
    }
   ],
   "source": [
    "\n",
    "dimension = 50\n",
    "learning_rate = 0.001\n",
    "seed = 1111\n",
    "\n",
    "torch.manual_seed(seed)\n",
    "import random\n",
    "random.seed(seed)\n",
    "\n",
    "model = BoxEL(nb_classes, nb_relations, dimension, [1e-4, 0.2], [-0.1, 0], [-0.1,0.1], [0.9,1.1], args).to(device)\n",
    "criterion = torch.nn.CrossEntropyLoss().to(device)\n",
    "optimizer = torch.optim.Adam(model.parameters(), lr=learning_rate)\n",
    "wandb.watch(model)\n"
   ]
  },
  {
   "cell_type": "code",
   "execution_count": 116,
   "metadata": {
    "scrolled": true
   },
   "outputs": [
    {
     "name": "stdout",
     "output_type": "stream",
     "text": [
      "Epoch:1 Train loss: 391.558575 Valid Mean Rank: 12176.5\n",
      "\n",
      "Epoch:101 Train loss: 80.678258 Valid Mean Rank: 2326.455\n",
      "\n",
      "Epoch:201 Train loss: 60.651415 Valid Mean Rank: 1381.465\n",
      "\n",
      "Epoch:301 Train loss: 52.412652 Valid Mean Rank: 1049.61\n",
      "\n",
      "Epoch:401 Train loss: 48.849852 Valid Mean Rank: 975.51\n",
      "\n",
      "Epoch:501 Train loss: 46.280659 Valid Mean Rank: 922.1\n",
      "\n",
      "Epoch:601 Train loss: 45.127429 Valid Mean Rank: 903.185\n",
      "\n",
      "Epoch:701 Train loss: 44.549500 Valid Mean Rank: 872.805\n",
      "\n",
      "Epoch:801 Train loss: 43.797099 Valid Mean Rank: 841.485\n",
      "\n",
      "Epoch:901 Train loss: 42.983799 Valid Mean Rank: 849.08\n",
      "\n"
     ]
    }
   ],
   "source": [
    "\n",
    "model.train()\n",
    "steps_per_epoch = train_steps\n",
    "train_generator.reset()\n",
    "\n",
    "for epoch in range(args.epochs):\n",
    "    train_loss = 0.0\n",
    "    nf1_total_loss = 0.0\n",
    "    nf2_total_loss = 0.0\n",
    "    nf3_total_loss = 0.0\n",
    "    nf4_total_loss = 0.0\n",
    "    disjoint_total_loss = 0.0\n",
    "    nf1_neg_total_loss = 0.0\n",
    "    role_chain_total_loss = 0.0\n",
    "    role_inclusion_total_loss = 0.0\n",
    "    \n",
    "    for step, batch in enumerate(train_generator):\n",
    "        if step < steps_per_epoch:\n",
    "            nf1_loss, nf1_neg_loss, nf2_loss, nf3_loss, nf4_loss, disjoint_loss, role_inclusion_loss, role_chain_loss, nf1_reg_loss, nf2_reg_loss , nf3_reg_loss , nf4_reg_loss , disjoint_reg_loss, nf1_neg_reg_loss = model(batch[0])\n",
    "            loss =  nf1_loss + nf1_reg_loss + nf1_neg_loss + nf1_neg_reg_loss+ nf2_loss + nf2_reg_loss + nf3_loss + nf3_reg_loss + nf4_loss + nf4_reg_loss +  role_inclusion_loss + role_chain_loss\n",
    "            assert torch.isnan(loss).sum() == 0\n",
    "            optimizer.zero_grad()\n",
    "            loss.backward()\n",
    "            assert torch.isnan(model.min_embedding).sum() == 0\n",
    "            optimizer.step()\n",
    "            assert torch.isnan(model.min_embedding).sum() == 0\n",
    "            assert torch.isnan(model.min_embedding.grad).sum() == 0\n",
    "            train_loss += loss\n",
    "            nf1_total_loss += nf1_loss\n",
    "            nf2_total_loss += nf2_loss\n",
    "            nf3_total_loss += nf3_loss\n",
    "            nf4_total_loss += nf4_loss\n",
    "            nf1_neg_total_loss += nf1_neg_loss\n",
    "            role_inclusion_total_loss += role_inclusion_loss\n",
    "            role_chain_total_loss += role_inclusion_loss\n",
    "            \n",
    "    \n",
    "        else:\n",
    "            train_generator.reset()\n",
    "            break\n",
    "            \n",
    "    mean_rank = compute_mean_rank(model, valid_data[0:100])\n",
    "    valid_accuracy = compute_accuracy(model, valid_data)\n",
    "    \n",
    "    wandb.log({'train loss': train_loss.item()/(step+1),'nf1_loss':nf1_total_loss.item()/(step+1), \n",
    "               'nf2_loss':nf2_total_loss.item()/(step+1), 'nf3_loss':nf3_total_loss.item()/(step+1), \n",
    "               'nf4_loss':nf4_total_loss.item()/(step+1), 'nf1_neg_loss':nf1_neg_total_loss.item()/(step+1),\n",
    "               'role_inclusion_loss':role_inclusion_total_loss.item()/(step+1),\n",
    "               'role_chain_loss':role_chain_total_loss.item()/(step+1),\n",
    "               'mean_rank':mean_rank,'valid_accuracy':valid_accuracy })\n",
    "\n",
    "    PATH = './models/box_el/dim' + str(dimension) + \"_lr\" + str(learning_rate) + '_batch'+str(batch_size)+'_seed'+ str(seed)+ '.pt'\n",
    "\n",
    "    if epoch % 100 == 0:\n",
    "        torch.save(model, PATH)\n",
    "        print('Epoch:%d' %(epoch + 1), \"Train loss: %f\" %(train_loss.item()/(step+1)), f'Valid Mean Rank: {mean_rank}\\n')\n",
    "\n"
   ]
  },
  {
   "cell_type": "code",
   "execution_count": 87,
   "metadata": {},
   "outputs": [
    {
     "data": {
      "text/plain": [
       "tensor([[ 8158,     0,   221],\n",
       "        [14869,     0,   647],\n",
       "        [ 3469,     0, 10560],\n",
       "        ...,\n",
       "        [18267,     0,  7361],\n",
       "        [ 1337,     0,  9386],\n",
       "        [ 9959,     0,   336]], device='cuda:3')"
      ]
     },
     "execution_count": 87,
     "metadata": {},
     "output_type": "execute_result"
    }
   ],
   "source": [
    "\n",
    "test_file = f'data/{dataset}/{dataset}_test.txt'\n",
    "test_data = load_valid_data(test_file,classes,relations)\n",
    "test_data = torch.Tensor(test_data).long().to(device)\n",
    "\n",
    "test_data\n"
   ]
  },
  {
   "cell_type": "code",
   "execution_count": 86,
   "metadata": {},
   "outputs": [
    {
     "name": "stdout",
     "output_type": "stream",
     "text": [
      "0.0 0.0 0.0 11499.770982783357 11544.5 11569.5 0.5010938176341759\n",
      "0.9917503586800573\n"
     ]
    }
   ],
   "source": [
    "(top1,top10, top100, mean_rank, median_rank, per_rank, auc,rank_values), acc = compute_rank(model, test_data, 90), compute_accuracy(model, test_data)\n",
    "print(top1,top10, top100, mean_rank, median_rank, per_rank, auc, acc)\n"
   ]
  },
  {
   "cell_type": "code",
   "execution_count": 54,
   "metadata": {},
   "outputs": [
    {
     "name": "stdout",
     "output_type": "stream",
     "text": [
      "0.0 0.006456241032998565 0.10043041606886657 2980.317969870875 1051.25 9149.200000000003 0.8703737719912009\n"
     ]
    }
   ],
   "source": [
    "\n",
    "# seed 3333\n",
    "PATH = './models/box_el_galen_50_seed3333.pt'\n",
    "model = torch.load(PATH)\n",
    "\n",
    "top1,top10, top100, mean_rank, median_rank, per_rank, auc,rank_values = compute_rank(model, test_data, 90)\n",
    "print(top1,top10, top100, mean_rank, median_rank, per_rank, auc)\n"
   ]
  },
  {
   "cell_type": "code",
   "execution_count": null,
   "metadata": {},
   "outputs": [],
   "source": []
  }
 ],
 "metadata": {
  "kernelspec": {
   "display_name": "box",
   "language": "python",
   "name": "box"
  },
  "language_info": {
   "codemirror_mode": {
    "name": "ipython",
    "version": 3
   },
   "file_extension": ".py",
   "mimetype": "text/x-python",
   "name": "python",
   "nbconvert_exporter": "python",
   "pygments_lexer": "ipython3",
   "version": "3.6.13"
  }
 },
 "nbformat": 4,
 "nbformat_minor": 2
}
