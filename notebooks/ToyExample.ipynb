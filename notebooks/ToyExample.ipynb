{
  "nbformat": 4,
  "nbformat_minor": 0,
  "metadata": {
    "colab": {
      "name": "ToyExample.ipynb",
      "provenance": []
    },
    "kernelspec": {
      "name": "python3",
      "display_name": "Python 3"
    },
    "language_info": {
      "name": "python"
    }
  },
  "cells": [
    {
      "cell_type": "code",
      "source": [
        "# ! pip install wandb"
      ],
      "metadata": {
        "id": "-AmBVSN1efjs"
      },
      "execution_count": null,
      "outputs": []
    },
    {
      "cell_type": "code",
      "execution_count": null,
      "metadata": {
        "id": "ApUoYNmKeT_-"
      },
      "outputs": [],
      "source": [
        "\n",
        "import time\n",
        "import torch\n",
        "import math\n",
        "import argparse\n",
        "import os\n",
        "import json\n",
        "import torch.nn as nn\n",
        "import torch.nn.functional as F\n"
      ]
    },
    {
      "cell_type": "code",
      "source": [
        "\n",
        "parser = argparse.ArgumentParser()\n",
        "parser.add_argument('--no_cuda', action='store_true', default=False, help='disables CUDA training (eg. no nvidia GPU)')\n",
        "parser.add_argument('--epochs', type=int, default=1000, help='number of epochs to train')\n",
        "# model parameters\n",
        "parser.add_argument('--model', type=str, default='softbox', help='model type: choose from softbox, gumbel')\n",
        "parser.add_argument('--box_embedding_dim', type=int, default=40, help='box embedding dimension')\n",
        "parser.add_argument('--softplus_temp', type=float, default=1.0, help='beta of softplus function')\n",
        "# gumbel box parameters\n",
        "parser.add_argument('--gumbel_beta', type=float, default=1.0, help='beta value for gumbel distribution')\n",
        "parser.add_argument('--scale', type=float, default=1.0, help='scale value for gumbel distribution')\n",
        "\n",
        "parser.add_argument('--dataset', type=str, default='GALEN', help='dataset')\n",
        "parser.add_argument('--using_rbox', type=int, default=1, help='using_rbox')\n",
        "parser.add_argument('--gpu', type=int, default=0, help='gpu')\n",
        "\n",
        "parser.add_argument('--dimension', type=int, default=50, help='dimension')\n",
        "parser.add_argument('--learning_rate', type=int, default=0.001, help='learning_rate')\n",
        "parser.add_argument('--batch_size', type=int, default=256, help='batch_size')\n",
        "parser.add_argument('--seed', type=int, default=1111, help='seed')\n",
        "\n",
        "args = parser.parse_args(args=['--no_cuda'] )\n",
        "args.save_to = \"./checkpoints/\" + args.model\n",
        "\n",
        "gpu = args.gpu\n",
        "dimension = args.dimension\n",
        "learning_rate = args.learning_rate\n",
        "batch_size = args.batch_size\n",
        "seed = args.seed\n",
        "dataset = args.dataset\n",
        "using_rbox = args.using_rbox\n",
        "# device = torch.device(\"cuda:1\" if torch.cuda.is_available() else \"cpu\")\n",
        "device = 'cpu'\n"
      ],
      "metadata": {
        "id": "lxGEtoeKeXgQ"
      },
      "execution_count": null,
      "outputs": []
    },
    {
      "cell_type": "code",
      "source": [
        "\n",
        "import time\n",
        "import torch\n",
        "import math\n",
        "import torch.nn as nn\n",
        "import torch.nn.functional as F\n",
        "from torch.distributions import uniform\n",
        "\n",
        "eps = 1e-8\n",
        "\n",
        "def l2_side_regularizer(box, log_scale: bool = True):\n",
        "    \"\"\"Applies l2 regularization on all sides of all boxes and returns the sum.\n",
        "    \"\"\"\n",
        "    min_x = box.min_embed \n",
        "    delta_x = box.delta_embed  \n",
        "\n",
        "    if not log_scale:\n",
        "        return torch.mean(delta_x ** 2)\n",
        "    else:\n",
        "        return torch.mean(F.relu(min_x + delta_x - 1 + eps )) +  torch.mean(F.relu(-min_x - eps)) #+ F.relu(torch.norm(min_x, p=2)-1)\n",
        "\n",
        "class Box:\n",
        "    def __init__(self, min_embed, max_embed):\n",
        "        self.min_embed = min_embed\n",
        "        self.max_embed = max_embed\n",
        "        self.delta_embed = max_embed - min_embed\n",
        "        \n",
        "class BoxEL(nn.Module):\n",
        "    def __init__(self, entity_size, vocab_size, relation_size, embed_dim, min_init_value, delta_init_value, relation_init_value, scaling_init_value, args):\n",
        "        super(BoxEL, self).__init__()\n",
        "        min_embedding = self.init_concept_embedding(vocab_size, embed_dim, min_init_value)\n",
        "        delta_embedding = self.init_concept_embedding(vocab_size, embed_dim, delta_init_value)\n",
        "        relation_embedding = self.init_concept_embedding(relation_size, embed_dim, relation_init_value)\n",
        "        scaling_embedding = self.init_concept_embedding(relation_size, embed_dim, scaling_init_value)\n",
        "#         \n",
        "        self.temperature = args.softplus_temp\n",
        "        self.min_embedding = nn.Parameter(min_embedding)\n",
        "        self.delta_embedding = nn.Parameter(delta_embedding)\n",
        "        self.relation_embedding = nn.Parameter(relation_embedding)\n",
        "        self.scaling_embedding = nn.Parameter(scaling_embedding)\n",
        "        self.min_embedding = nn.Parameter(min_embedding)\n",
        "        self.entity_embedding = nn.Parameter( self.init_concept_embedding(entity_size, embed_dim, min_init_value) )\n",
        "        \n",
        "        self.gumbel_beta = args.gumbel_beta\n",
        "        self.scale = args.scale\n",
        "\n",
        "    def forward(self, data):\n",
        "        # ABox concept assertion\n",
        "        points = self.entity_embedding[train_data[0][:,0]]\n",
        "        nf1_min = self.min_embedding[data[0][:,1:]]\n",
        "        nf1_delta = self.delta_embedding[data[0][:,1:]]\n",
        "        nf1_max = nf1_min+torch.exp(nf1_delta)\n",
        "        boxes = Box(nf1_min[:, 0, :], nf1_max[:, 0, :])\n",
        "        concept_assertion_loss, ca_reg = self.concept_assertion_loss(points, boxes)\n",
        "        # ABox role assertion\n",
        "        points1= self.entity_embedding[train_data[1][:,0]]\n",
        "        points2 = self.entity_embedding[train_data[1][:,2]]\n",
        "        relation = self.relation_embedding[data[1][:,1]]\n",
        "        scaling = self.scaling_embedding[data[1][:,1]]\n",
        "        role_assertion_loss = self.role_assertion_loss(points1, relation, scaling, points2)\n",
        "        \n",
        "        # TBox nf1\n",
        "        nf1_min = self.min_embedding[data[2][:,[0,2]]]\n",
        "        nf1_delta = self.delta_embedding[data[2][:,[0,2]]]\n",
        "        nf1_max = nf1_min+torch.exp(nf1_delta)\n",
        "        boxes1 = Box(nf1_min[:, 0, :], nf1_max[:, 0, :])\n",
        "        boxes2 = Box(nf1_min[:, 1, :], nf1_max[:, 1, :])\n",
        "        nf1_loss, nf1_reg_loss = self.nf1_loss(boxes1, boxes2)\n",
        "         # TBox nf2\n",
        "        nf2_min = self.min_embedding[data[3]]\n",
        "        nf2_delta = self.delta_embedding[data[3]]\n",
        "        nf2_max = nf2_min+torch.exp(nf2_delta)\n",
        "        boxes1 = Box(nf2_min[:, 0, :], nf2_max[:, 0, :])\n",
        "        boxes2 = Box(nf2_min[:, 1, :], nf2_max[:, 1, :])\n",
        "        boxes3 = Box(nf2_min[:, 2, :], nf2_max[:, 2, :])\n",
        "        nf2_loss,nf2_reg_loss = self.nf2_loss(boxes1, boxes2, boxes3)\n",
        "         # TBox nf3\n",
        "        nf3_min = self.min_embedding[data[4][:,[0,2]]]\n",
        "        nf3_delta = self.delta_embedding[data[4][:,[0,2]]]\n",
        "        nf3_max = nf3_min+torch.exp(nf3_delta)\n",
        "        relation = self.relation_embedding[data[4][:,1]]\n",
        "        scaling = self.scaling_embedding[data[4][:,1]]\n",
        "        boxes1 = Box(nf3_min[:, 0, :], nf3_max[:, 0, :])\n",
        "        boxes2 = Box(nf3_min[:, 1, :], nf3_max[:, 1, :])\n",
        "        nf3_loss,nf3_reg_loss = self.nf3_loss(boxes1, relation, scaling, boxes2)\n",
        "         # TBox nf4\n",
        "        nf4_min = self.min_embedding[data[5][:,1:]]\n",
        "        nf4_delta = self.delta_embedding[data[5][:,1:]]\n",
        "        nf4_max = nf4_min+torch.exp(nf4_delta)\n",
        "        relation = self.relation_embedding[data[5][:,0]]\n",
        "        scaling = self.scaling_embedding[data[5][:,0]]\n",
        "        boxes1 = Box(nf4_min[:, 0, :], nf4_max[:, 0, :])\n",
        "        boxes2 = Box(nf4_min[:, 1, :], nf4_max[:, 1, :])\n",
        "        nf4_loss,nf4_reg_loss = self.nf4_loss(relation, scaling, boxes1, boxes2)\n",
        "         # TBox disjoint\n",
        "        disjoint_min = self.min_embedding[data[6]]\n",
        "        disjoint_delta = self.delta_embedding[data[6]]\n",
        "        disjoint_max = disjoint_min+torch.exp(disjoint_delta)\n",
        "        boxes1 = Box(disjoint_min[:, 0, :], disjoint_max[:, 0, :])\n",
        "        boxes2 = Box(disjoint_min[:, 1, :], disjoint_max[:, 1, :])\n",
        "        disjoint_loss,disjoint_reg_loss = self.disjoint_loss(boxes1, boxes2)\n",
        "        # TBox nf1_neg\n",
        "        nf1_neg_min = self.min_embedding[data[7][:,[0,2]]]\n",
        "        nf1_neg_delta = self.delta_embedding[data[7][:,[0,2]]]\n",
        "        nf1_neg_max = nf1_neg_min+torch.exp(nf1_neg_delta)\n",
        "        boxes1 = Box(nf1_neg_min[:, 0, :], nf1_neg_max[:, 0, :])\n",
        "        boxes2 = Box(nf1_neg_min[:, 1, :], nf1_neg_max[:, 1, :])\n",
        "        nf1_neg_loss, nf1_neg_reg_loss = self.nf1_loss(boxes1, boxes2)\n",
        "        nf1_neg_loss = 1 - nf1_neg_loss\n",
        "\n",
        "        return concept_assertion_loss.sum(), role_assertion_loss.sum(), nf1_loss.sum(), nf1_neg_loss.sum(), nf2_loss.sum(), nf3_loss.sum(), nf4_loss.sum(), disjoint_loss.sum(), nf1_reg_loss, nf1_neg_reg_loss, nf2_reg_loss , nf3_reg_loss , nf4_reg_loss, disjoint_reg_loss\n",
        "\n",
        "    def concept_assertion_loss(self, points, boxes):\n",
        "        concept_assertion_loss = torch.norm(F.relu(points - boxes.max_embed + eps), p=2, dim=1,keepdim=True) + torch.norm(F.relu( boxes.min_embed  - points -eps), p=2, dim=1,keepdim=True)\n",
        "        return concept_assertion_loss, l2_side_regularizer(boxes, log_scale=True) \n",
        "\n",
        "    def role_assertion_loss(self, points1, relation, scaling, points2):\n",
        "        trans_point = points1*scaling+relation\n",
        "        role_assertion_loss = torch.norm(trans_point-points2,p=2, dim=1,keepdim=True)\n",
        "        return role_assertion_loss\n",
        "\n",
        "    def get_cond_probs(self, data):\n",
        "        nf3_min = self.min_embedding[data[:,[0,2]]]\n",
        "        nf3_delta = self.delta_embedding[data[:,[0,2]]]\n",
        "        nf3_max = nf3_min+torch.exp(nf3_delta)\n",
        "        relation = self.relation_embedding[data[:,1]]\n",
        "        boxes1 = Box(nf3_min[:, 0, :], nf3_max[:, 0, :])\n",
        "        boxes2 = Box(nf3_min[:, 1, :], nf3_max[:, 1, :])\n",
        "        log_intersection = torch.log(torch.clamp(self.volumes(self.intersection(boxes1, boxes2)), 1e-10, 1e4))\n",
        "        log_box2 = torch.log(torch.clamp(self.volumes(boxes2), 1e-10, 1e4))\n",
        "        return torch.exp(log_intersection-log_box2)\n",
        "\n",
        "    def volumes(self, boxes):\n",
        "        return F.softplus(boxes.delta_embed, beta=self.temperature).prod(1)\n",
        "\n",
        "    def intersection(self, boxes1, boxes2):\n",
        "        intersections_min = torch.max(boxes1.min_embed, boxes2.min_embed)\n",
        "        intersections_max = torch.min(boxes1.max_embed, boxes2.max_embed)\n",
        "        intersection_box = Box(intersections_min, intersections_max)\n",
        "        return intersection_box\n",
        "    \n",
        "    def inclusion_loss(self, boxes1, boxes2):\n",
        "        log_intersection = torch.log(torch.clamp(self.volumes(self.intersection(boxes1, boxes2)), 1e-10, 1e4))\n",
        "        log_box1 = torch.log(torch.clamp(self.volumes(boxes1), 1e-10, 1e4))\n",
        "        return 1-torch.exp(log_intersection-log_box1)\n",
        "    \n",
        "    def nf1_loss(self, boxes1, boxes2):\n",
        "        return self.inclusion_loss(boxes1, boxes2), l2_side_regularizer(boxes1, log_scale=True) + l2_side_regularizer(boxes2, log_scale=True)\n",
        "        \n",
        "    def nf2_loss(self, boxes1, boxes2, boxes3):\n",
        "        inter_box = self.intersection(boxes1, boxes2)\n",
        "        return self.inclusion_loss(inter_box, boxes3), l2_side_regularizer(inter_box, log_scale=True) + l2_side_regularizer(boxes1, log_scale=True) + l2_side_regularizer(boxes2, log_scale=True) + l2_side_regularizer(boxes3, log_scale=True)\n",
        "    \n",
        "    def nf3_loss(self, boxes1, relation, scaling, boxes2):\n",
        "        trans_min = boxes1.min_embed*(scaling + eps) + relation\n",
        "        trans_max = boxes1.max_embed*(scaling + eps) + relation\n",
        "        trans_boxes = Box(trans_min, trans_max)\n",
        "        return self.inclusion_loss(trans_boxes, boxes2), l2_side_regularizer(trans_boxes, log_scale=True) + l2_side_regularizer(boxes1, log_scale=True) + l2_side_regularizer(boxes2, log_scale=True) \n",
        "    \n",
        "    def nf4_loss(self, relation, scaling, boxes1, boxes2):\n",
        "        trans_min = (boxes1.min_embed - relation)/(scaling + eps)\n",
        "        trans_max = (boxes1.max_embed - relation)/(scaling + eps)\n",
        "        trans_boxes = Box(trans_min, trans_max)\n",
        "        return self.inclusion_loss(trans_boxes, boxes2), l2_side_regularizer(trans_boxes, log_scale=True) + l2_side_regularizer(boxes1, log_scale=True) + l2_side_regularizer(boxes2, log_scale=True) \n",
        "        \n",
        "    def disjoint_loss(self, boxes1, boxes2):\n",
        "        log_intersection = torch.log(torch.clamp(self.volumes(self.intersection(boxes1, boxes2)), 1e-10, 1e4))\n",
        "        log_boxes1 = torch.log(torch.clamp(self.volumes(boxes1), 1e-10, 1e4))\n",
        "        log_boxes2 = torch.log(torch.clamp(self.volumes(boxes2), 1e-10, 1e4))\n",
        "        union = log_boxes1 + log_boxes2\n",
        "        return torch.exp(log_intersection-union), l2_side_regularizer(boxes1, log_scale=True) + l2_side_regularizer(boxes2, log_scale=True)\n",
        "        \n",
        "    def role_inclusion_loss(self, translation_1,translation_2,scaling_1,scaling_2):\n",
        "        loss_1 = torch.norm(translation_1-translation_2, p=2, dim=1,keepdim=True)\n",
        "        loss_2 = torch.norm(F.relu(scaling_1/(scaling_2 +eps) -1), p=2, dim=1,keepdim=True)\n",
        "        return loss_1+loss_2\n",
        "    \n",
        "    def role_chain_loss(self, translation_1,translation_2,translation_3,scaling_1,scaling_2,scaling_3):\n",
        "        loss_1 = torch.norm(scaling_1*translation_1 + translation_2 -translation_3, p=2, dim=1,keepdim=True)\n",
        "        loss_2 = torch.norm(F.relu(scaling_1*scaling_2/(scaling_3 +eps) -1), p=2, dim=1,keepdim=True)\n",
        "        return loss_1+loss_2\n",
        "    \n",
        "    def init_concept_embedding(self, vocab_size, embed_dim, init_value):\n",
        "        distribution = uniform.Uniform(init_value[0], init_value[1])\n",
        "        box_embed = distribution.sample((vocab_size, embed_dim))\n",
        "        return box_embed\n",
        "\n",
        "\n"
      ],
      "metadata": {
        "id": "oqeQJNvJeZld"
      },
      "execution_count": null,
      "outputs": []
    },
    {
      "cell_type": "code",
      "source": [
        "\n",
        "\n",
        "train_data = []\n",
        "# ABox\n",
        "train_data.append(torch.Tensor([[0,4],[1,4],[2,5],[3,5]]).long().to(device)) # concept assertion\n",
        "train_data.append(torch.Tensor([[0,1,2],[3,2,1]]).long().to(device)) # role assertion\n",
        "# Tbox\n",
        "train_data.append(torch.Tensor([[1,0,0],[2,0,0],[3,0,0],[4,0,1],[4,0,2],[5,0,2],[5,0,3]]).long().to(device)) #nf1 c in d\n",
        "train_data.append(torch.Tensor([[1,2,4],[2,3,5]]).long().to(device)) # nf2\n",
        "train_data.append(torch.Tensor([[2,0,0]]).long().to(device)) # nf3\n",
        "train_data.append(torch.Tensor([[0,0,2]]).long().to(device)) #nf4\n",
        "train_data.append(torch.Tensor([[1,3,0]]).long().to(device)) #disjoint\n",
        "train_data.append(torch.Tensor([[2,0,5],[3,0,5],[1,0,4],[2,0,4]]).long().to(device)) # nf1 neg\n",
        "train_data.append(torch.Tensor([[6]]).long().to(device)) #disjoint\n",
        "\n",
        "#RBox\n",
        "train_data.append(torch.Tensor([[1,0],[2,0]]).long().to(device)) \n",
        "train_data.append(torch.Tensor([[1,2,3],[1,2,3]]).long().to(device)) \n",
        "\n",
        "train_data\n",
        "\n"
      ],
      "metadata": {
        "colab": {
          "base_uri": "https://localhost:8080/"
        },
        "id": "4hnkd7-ee_yE",
        "outputId": "71b99266-88b2-4e99-abb9-742bb6d991b0"
      },
      "execution_count": null,
      "outputs": [
        {
          "output_type": "execute_result",
          "data": {
            "text/plain": [
              "[tensor([[0, 4],\n",
              "         [1, 4],\n",
              "         [2, 5],\n",
              "         [3, 5]]), tensor([[0, 1, 2],\n",
              "         [3, 2, 1]]), tensor([[1, 0, 0],\n",
              "         [2, 0, 0],\n",
              "         [3, 0, 0],\n",
              "         [4, 0, 1],\n",
              "         [4, 0, 2],\n",
              "         [5, 0, 2],\n",
              "         [5, 0, 3]]), tensor([[1, 2, 4],\n",
              "         [2, 3, 5]]), tensor([[2, 0, 0]]), tensor([[0, 0, 2]]), tensor([[1, 3, 0]]), tensor([[2, 0, 5],\n",
              "         [3, 0, 5],\n",
              "         [1, 0, 4],\n",
              "         [2, 0, 4]]), tensor([[6]]), tensor([[1, 0],\n",
              "         [2, 0]]), tensor([[1, 2, 3],\n",
              "         [1, 2, 3]])]"
            ]
          },
          "metadata": {},
          "execution_count": 4
        }
      ]
    },
    {
      "cell_type": "code",
      "source": [
        "wandb.init(project=\"basic_box\",  reinit=False, config=args)\n",
        "# "
      ],
      "metadata": {
        "colab": {
          "base_uri": "https://localhost:8080/",
          "height": 525
        },
        "id": "sctyyPc3fOPY",
        "outputId": "82e6ef74-b14a-4c16-a7f0-e25267b75d60"
      },
      "execution_count": null,
      "outputs": [
        {
          "output_type": "display_data",
          "data": {
            "text/plain": [
              "<IPython.core.display.Javascript object>"
            ],
            "application/javascript": [
              "\n",
              "        window._wandbApiKey = new Promise((resolve, reject) => {\n",
              "            function loadScript(url) {\n",
              "            return new Promise(function(resolve, reject) {\n",
              "                let newScript = document.createElement(\"script\");\n",
              "                newScript.onerror = reject;\n",
              "                newScript.onload = resolve;\n",
              "                document.body.appendChild(newScript);\n",
              "                newScript.src = url;\n",
              "            });\n",
              "            }\n",
              "            loadScript(\"https://cdn.jsdelivr.net/npm/postmate/build/postmate.min.js\").then(() => {\n",
              "            const iframe = document.createElement('iframe')\n",
              "            iframe.style.cssText = \"width:0;height:0;border:none\"\n",
              "            document.body.appendChild(iframe)\n",
              "            const handshake = new Postmate({\n",
              "                container: iframe,\n",
              "                url: 'https://wandb.ai/authorize'\n",
              "            });\n",
              "            const timeout = setTimeout(() => reject(\"Couldn't auto authenticate\"), 5000)\n",
              "            handshake.then(function(child) {\n",
              "                child.on('authorize', data => {\n",
              "                    clearTimeout(timeout)\n",
              "                    resolve(data)\n",
              "                });\n",
              "            });\n",
              "            })\n",
              "        });\n",
              "    "
            ]
          },
          "metadata": {}
        },
        {
          "output_type": "stream",
          "name": "stderr",
          "text": [
            "\u001b[34m\u001b[1mwandb\u001b[0m: Appending key for api.wandb.ai to your netrc file: /root/.netrc\n"
          ]
        },
        {
          "output_type": "display_data",
          "data": {
            "text/plain": [
              "<IPython.core.display.HTML object>"
            ],
            "text/html": [
              "Tracking run with wandb version 0.12.18"
            ]
          },
          "metadata": {}
        },
        {
          "output_type": "display_data",
          "data": {
            "text/plain": [
              "<IPython.core.display.HTML object>"
            ],
            "text/html": [
              "Run data is saved locally in <code>/content/wandb/run-20220618_154503-16lgnxf3</code>"
            ]
          },
          "metadata": {}
        },
        {
          "output_type": "display_data",
          "data": {
            "text/plain": [
              "<IPython.core.display.HTML object>"
            ],
            "text/html": [
              "Syncing run <strong><a href=\"https://wandb.ai/boxiong/basic_box/runs/16lgnxf3\" target=\"_blank\">denim-morning-208</a></strong> to <a href=\"https://wandb.ai/boxiong/basic_box\" target=\"_blank\">Weights & Biases</a> (<a href=\"https://wandb.me/run\" target=\"_blank\">docs</a>)<br/>"
            ]
          },
          "metadata": {}
        },
        {
          "output_type": "execute_result",
          "data": {
            "text/html": [
              "<button onClick=\"this.nextSibling.style.display='block';this.style.display='none';\">Display W&B run</button><iframe src=\"https://wandb.ai/boxiong/basic_box/runs/16lgnxf3?jupyter=true\" style=\"border:none;width:100%;height:420px;display:none;\"></iframe>"
            ],
            "text/plain": [
              "<wandb.sdk.wandb_run.Run at 0x7f6946f4af90>"
            ]
          },
          "metadata": {},
          "execution_count": 6
        }
      ]
    },
    {
      "cell_type": "code",
      "source": [
        "torch.manual_seed(888)\n",
        "model = BoxEL(4, 6, 7, 2, [1e-4,0.2], [-0.1, 0], [-0.1,0.1], [0.9, 1.1], args).to(device)\n",
        "criterion = torch.nn.CrossEntropyLoss().to(device)\n",
        "optimizer = torch.optim.Adam(model.parameters(), lr=0.1)\n",
        "model\n"
      ],
      "metadata": {
        "colab": {
          "base_uri": "https://localhost:8080/"
        },
        "id": "ybzyBx7KfRDN",
        "outputId": "9c8eff04-bd75-4693-e802-723d4b3b6ef2"
      },
      "execution_count": null,
      "outputs": [
        {
          "output_type": "execute_result",
          "data": {
            "text/plain": [
              "BoxEL()"
            ]
          },
          "metadata": {},
          "execution_count": 5
        }
      ]
    },
    {
      "cell_type": "code",
      "source": [
        "\n",
        "import matplotlib.pyplot as plt\n",
        "import matplotlib.patches as mpatches\n",
        "from IPython.display import clear_output\n",
        "\n",
        "def plot_box(boxes, relation, scaling_emb, epoch, loss):\n",
        "    clear_output(wait=True)\n",
        "    plt.figure(figsize=(5,4))\n",
        "\n",
        "#     plt.subplot(121)\n",
        "    \n",
        "    labels = ['Person','Male','Parent','Female','Father','Mother']\n",
        "    color = ['r','b','g','purple','m','c']\n",
        "    \n",
        "    # Plot individual embedding\n",
        "    x = model.entity_embedding.cpu().detach().numpy()[:,0]\n",
        "    y = model.entity_embedding.cpu().detach().numpy()[:,1]\n",
        "    label = ['Alex','Bob','Alice','Maria']\n",
        "    plt.scatter(x,y,c=['r','m','lightgreen','darkblue'])\n",
        "    for i, txt in enumerate(label):\n",
        "        plt.annotate(txt, (x[i], y[i]))\n",
        "\n",
        "    # Plot concept embedding\n",
        "    for i in range(boxes.min_embed.shape[0]):\n",
        "        x1,x2,w,h = boxes.min_embed[i][0].detach().numpy(),boxes.min_embed[i][1].detach().numpy(),boxes.max_embed[i][0].detach().numpy()-boxes.min_embed[i][0].detach().numpy(), boxes.max_embed[i][1].detach().numpy()-boxes.min_embed[i][1].detach().numpy()\n",
        "        rect=mpatches.Rectangle((x1,x2),w,h, fill = False, color = color[i],linewidth = 2, alpha=0.6, facecolor=color[i])\n",
        "        plt.gca().add_patch(rect)\n",
        "        plt.text(x1+w-0.14,x2+h-0.05, labels[i], color = color[i])\n",
        "        \n",
        "    plt.xlim(-0.03,1.03)\n",
        "    plt.ylim(-0.03,1.03)\n",
        "    plt.savefig('toy_example.pdf', dpi=1200)\n",
        "    \n",
        "#     plt.title(\"Classes embedding\")\n",
        "#     x1,x2,w,h = boxes.min_embed[2][0],boxes.min_embed[2][1],boxes.max_embed[2][0]-boxes.min_embed[2][0], boxes.max_embed[2][1]-boxes.min_embed[2][1]\n",
        "#     plt.arrow(x1.cpu().detach().numpy(), x2.cpu().detach().numpy(), rel_emb[0][0].cpu().detach().numpy(), rel_emb[0][1].cpu().detach().numpy(), head_width=0.01, head_length=0.01, fc='k', ec='k')\n",
        "#     plt.text(x1 + rel_emb[0][0]/2, x2+rel_emb[0][1]/2, 'hasChild', color = 'black')\n",
        "    \n",
        "    \n",
        "#     plt.subplot(122)\n",
        "    \n",
        "#     labels = ['Person','Male','Parent','Femal','Father','Mother']\n",
        "#     color = ['r','b','g','purple','m','c']\n",
        "    \n",
        "#     # Plot individual embedding\n",
        "#     x = model.entity_embedding.cpu().detach().numpy()[:,0]\n",
        "#     y = model.entity_embedding.cpu().detach().numpy()[:,1]\n",
        "#     label = ['Alex','Bob','Alice','Maria']\n",
        "#     plt.scatter(x,y,c=['r','m','lightgreen','darkblue'])\n",
        "#     for i, txt in enumerate(label):\n",
        "#         plt.annotate(txt, (x[i], y[i]))\n",
        "        \n",
        "#     plt.arrow(x, y, rel_emb[0][0].cpu().detach().numpy(), rel_emb[0][1].cpu().detach().numpy(), head_width=0.01, head_length=0.01, fc='k', ec='k')\n",
        "#     plt.text(x1 + rel_emb[0][0]/2, x2+rel_emb[0][1]/2, 'hasChild', color = 'black')\n",
        "    \n",
        "    \n",
        "#     x1,x2,w,h = boxes.min_embed[2][0],boxes.min_embed[2][1],boxes.max_embed[2][0]-boxes.min_embed[2][0], boxes.max_embed[2][1]-boxes.min_embed[2][1]\n",
        "#     rect=mpatches.Rectangle((x1,x2),w,h, fill = False, color = 'green', linewidth = 1, alpha=0.6)\n",
        "#     plt.gca().add_patch(rect)\n",
        "#     plt.text(x1, x2+0.9*h, 'Parent', color = 'green')\n",
        "\n",
        "#     trans_min = boxes.min_embed[2:3] + rel_emb[0]\n",
        "#     trans_max = trans_min + (boxes.max_embed[2:3] - boxes.min_embed[2:3])*scaling_emb[0]\n",
        "    \n",
        "    \n",
        "#     x1,x2,w,h = trans_min[0][0],trans_min[0][1],trans_max[0][0]-trans_min[0][0], trans_max[0][1]-trans_min[0][1]\n",
        "#     rect=mpatches.Rectangle((x1,x2),w,h, fill = False, color = 'orange', linewidth = 1, alpha=0.6)\n",
        "#     plt.gca().add_patch(rect)\n",
        "#     plt.text(x1, x2+0.9*h, 'Parent + hasChild ', color = 'orange')\n",
        "    \n",
        "#     x1,x2,w,h = boxes.min_embed[0][0],boxes.min_embed[0][1],boxes.max_embed[0][0]-boxes.min_embed[0][0], boxes.max_embed[0][1]-boxes.min_embed[0][1]\n",
        "#     rect=mpatches.Rectangle((x1,x2),w,h, fill = False, color = 'red', linewidth = 1, alpha=0.6)\n",
        "#     plt.gca().add_patch(rect)\n",
        "#     plt.text(x1, x2+0.9*h, 'Person', color = 'red')\n",
        "    \n",
        "#     plt.xlim(-0.5,1)\n",
        "#     plt.ylim(-0.5,1)\n",
        "#     plt.title(\"Relation embedding\")\n",
        "\n",
        "    plt.show()\n",
        "\n"
      ],
      "metadata": {
        "id": "mx1h_fMNfWWz"
      },
      "execution_count": null,
      "outputs": []
    },
    {
      "cell_type": "code",
      "source": [
        "\n",
        "model.train()\n",
        "for epoch in range(400):\n",
        "#     concept_assertion_loss, role_assertion_loss, nf1_loss, nf2_loss, nf3_loss, nf4_loss, disjoint_loss, nf3_neg_loss, role_inclusion_loss, role_chain_loss, concept_inclusion_reg_loss,nf1_reg_loss, nf2_reg_loss , nf3_reg_loss , nf4_reg_loss , disjoint_reg_loss , nf3_neg_reg_loss = \n",
        "    print(epoch)\n",
        "    concept_assertion_loss, role_assertion_loss, nf1_loss, nf1_neg_loss, nf2_loss, nf3_loss, nf4_loss, disjoint_loss, nf1_reg_loss, nf1_neg_reg_loss, nf2_reg_loss , nf3_reg_loss , nf4_reg_loss, disjoint_reg_loss = model(train_data)\n",
        "    loss =  concept_assertion_loss + role_assertion_loss + nf1_loss + nf1_reg_loss + nf2_loss + nf2_reg_loss + disjoint_loss + disjoint_reg_loss + nf3_loss + nf3_reg_loss + nf4_loss + nf4_reg_loss\n",
        "    optimizer.zero_grad()\n",
        "    loss.backward()\n",
        "    optimizer.step()\n",
        "    \n",
        "    if epoch % 399 ==0:\n",
        "        min_emb, delta_emb, max_emb, rel_emb, scaling_emb = model.min_embedding, model.delta_embedding, model.min_embedding +torch.exp(model.delta_embedding), model.relation_embedding, model.scaling_embedding\n",
        "        boxes = Box(min_emb, max_emb)\n",
        "        plot_box(boxes, rel_emb.detach().numpy(), scaling_emb.detach().numpy(), epoch, loss.item())\n",
        "#     if epoch % 10 == 0:\n",
        "#         print(nf1_loss.item(), nf2_loss.item(), nf3_loss.item(), nf4_loss.item(), disjoint_loss.item(), nf3_neg_loss.item(), nf1_reg_loss.item(),nf3_reg_loss.item(), nf4_reg_loss.item() )   \n",
        "        \n",
        "        \n"
      ],
      "metadata": {
        "colab": {
          "base_uri": "https://localhost:8080/"
        },
        "id": "rMc3HIqSfYma",
        "outputId": "0852c978-e779-4f69-9a3a-f5920c5df9cb"
      },
      "execution_count": null,
      "outputs": [
        {
          "output_type": "stream",
          "name": "stderr",
          "text": [
            "/usr/local/lib/python3.7/dist-packages/ipykernel_launcher.py:26: UserWarning: Setting the 'color' property will override the edgecolor or facecolor properties.\n"
          ]
        },
        {
          "output_type": "display_data",
          "data": {
            "text/plain": [
              "<Figure size 360x288 with 1 Axes>"
            ],
            "image/png": "[encoded data removed]"
          },
          "metadata": {
            "needs_background": "light"
          }
        }
      ]
    },
    {
      "cell_type": "code",
      "source": [
        ""
      ],
      "metadata": {
        "id": "bkGeF0Mgfbj6"
      },
      "execution_count": null,
      "outputs": []
    }
  ]
}