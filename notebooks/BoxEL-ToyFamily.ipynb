{
 "cells": [
  {
   "cell_type": "code",
   "execution_count": 1,
   "metadata": {},
   "outputs": [],
   "source": [
    "\n",
    "import time\n",
    "import wandb\n",
    "import torch\n",
    "from torch.utils.data import DataLoader\n",
    "import math\n",
    "import argparse\n",
    "import os\n",
    "import json\n",
    "import wandb\n",
    "import torch.nn as nn\n",
    "from basic_box import Box\n",
    "import torch.nn.functional as F\n"
   ]
  },
  {
   "cell_type": "code",
   "execution_count": 2,
   "metadata": {},
   "outputs": [],
   "source": [
    "parser = argparse.ArgumentParser()\n",
    "parser.add_argument('--no_cuda', action='store_true', default=False, help='disables CUDA training (eg. no nvidia GPU)')\n",
    "parser.add_argument('--epochs', type=int, default=1000, help='number of epochs to train')\n",
    "# model parameters\n",
    "parser.add_argument('--model', type=str, default='softbox', help='model type: choose from softbox, gumbel')\n",
    "parser.add_argument('--box_embedding_dim', type=int, default=40, help='box embedding dimension')\n",
    "parser.add_argument('--softplus_temp', type=float, default=1.0, help='beta of softplus function')\n",
    "# gumbel box parameters\n",
    "parser.add_argument('--gumbel_beta', type=float, default=1.0, help='beta value for gumbel distribution')\n",
    "parser.add_argument('--scale', type=float, default=1.0, help='scale value for gumbel distribution')\n",
    "\n",
    "parser.add_argument('--dataset', type=str, default='GALEN', help='dataset')\n",
    "parser.add_argument('--using_rbox', type=int, default=1, help='using_rbox')\n",
    "parser.add_argument('--gpu', type=int, default=0, help='gpu')\n",
    "\n",
    "parser.add_argument('--dimension', type=int, default=50, help='dimension')\n",
    "parser.add_argument('--learning_rate', type=int, default=0.001, help='learning_rate')\n",
    "parser.add_argument('--batch_size', type=int, default=256, help='batch_size')\n",
    "parser.add_argument('--seed', type=int, default=1111, help='seed')\n",
    "\n",
    "args = parser.parse_args(args=['--no_cuda'] )\n",
    "args.save_to = \"./checkpoints/\" + args.model\n",
    "\n",
    "gpu = args.gpu\n",
    "dimension = args.dimension\n",
    "learning_rate = args.learning_rate\n",
    "batch_size = args.batch_size\n",
    "seed = args.seed\n",
    "dataset = args.dataset\n",
    "using_rbox = args.using_rbox\n",
    "\n",
    "torch.cuda.set_device(1)\n",
    "device = torch.device(\"cuda:1\" if torch.cuda.is_available() else \"cpu\")\n"
   ]
  },
  {
   "cell_type": "code",
   "execution_count": 11,
   "metadata": {},
   "outputs": [],
   "source": [
    "torch.manual_seed(seed)\n",
    "import random\n",
    "random.seed(seed)\n",
    "\n",
    "import torch\n",
    "from data_loader import load_cls,load_valid_data\n",
    "\n",
    "from box_model import BoxEL as Model\n"
   ]
  },
  {
   "cell_type": "code",
   "execution_count": 12,
   "metadata": {},
   "outputs": [
    {
     "data": {
      "text/plain": [
       "[tensor([[0, 4],\n",
       "         [1, 4],\n",
       "         [2, 5],\n",
       "         [3, 5]], device='cuda:1'), tensor([[0, 1, 2],\n",
       "         [3, 2, 1]], device='cuda:1'), tensor([[1, 0, 0],\n",
       "         [2, 0, 0],\n",
       "         [3, 0, 0],\n",
       "         [4, 0, 1],\n",
       "         [4, 0, 2],\n",
       "         [5, 0, 2],\n",
       "         [5, 0, 3]], device='cuda:1'), tensor([[1, 2, 4],\n",
       "         [2, 3, 5]], device='cuda:1'), tensor([[2, 0, 0]], device='cuda:1'), tensor([[0, 0, 2]], device='cuda:1'), tensor([[1, 3, 0]], device='cuda:1'), tensor([[2, 0, 5],\n",
       "         [3, 0, 5],\n",
       "         [1, 0, 4],\n",
       "         [2, 0, 4]], device='cuda:1'), tensor([[6]], device='cuda:1'), tensor([[1, 0],\n",
       "         [2, 0]], device='cuda:1'), tensor([[1, 2, 3],\n",
       "         [1, 2, 3]], device='cuda:1')]"
      ]
     },
     "execution_count": 12,
     "metadata": {},
     "output_type": "execute_result"
    }
   ],
   "source": [
    "\n",
    "train_data = []\n",
    "\n",
    "train_data.append(torch.Tensor([[0,4],[1,4],[2,5],[3,5]]).long().to(device)) # concept assertion\n",
    "train_data.append(torch.Tensor([[0,1,2],[3,2,1]]).long().to(device)) # role assertion\n",
    "# Tbox\n",
    "train_data.append(torch.Tensor([[1,0,0],[2,0,0],[3,0,0],[4,0,1],[4,0,2],[5,0,2],[5,0,3]]).long().to(device)) #nf1 c in d\n",
    "train_data.append(torch.Tensor([[1,2,4],[2,3,5]]).long().to(device)) # nf2\n",
    "train_data.append(torch.Tensor([[2,0,0]]).long().to(device)) # nf3\n",
    "train_data.append(torch.Tensor([[0,0,2]]).long().to(device)) #nf4\n",
    "train_data.append(torch.Tensor([[1,3,0]]).long().to(device)) #disjoint\n",
    "train_data.append(torch.Tensor([[2,0,5],[3,0,5],[1,0,4],[2,0,4]]).long().to(device)) # nf1 neg\n",
    "train_data.append(torch.Tensor([[6]]).long().to(device)) #disjoint\n",
    "\n",
    "#RBox\n",
    "train_data.append(torch.Tensor([[1,0],[2,0]]).long().to(device)) \n",
    "train_data.append(torch.Tensor([[1,2,3],[1,2,3]]).long().to(device)) \n",
    "\n",
    "train_data\n"
   ]
  },
  {
   "cell_type": "code",
   "execution_count": 13,
   "metadata": {},
   "outputs": [
    {
     "data": {
      "text/html": [
       "<h1>Run(1bc55nyk)</h1><iframe src=\"https://wandb.ai/boxiong/basic_box/runs/1bc55nyk\" style=\"border:none;width:100%;height:400px\"></iframe>"
      ],
      "text/plain": [
       "<wandb.sdk.wandb_run.Run at 0x7f47a0a9a908>"
      ]
     },
     "execution_count": 13,
     "metadata": {},
     "output_type": "execute_result"
    }
   ],
   "source": [
    "wandb.init(project=\"basic_box\",  reinit=False, config=args)\n"
   ]
  },
  {
   "cell_type": "code",
   "execution_count": 14,
   "metadata": {},
   "outputs": [
    {
     "data": {
      "text/plain": [
       "BoxEL()"
      ]
     },
     "execution_count": 14,
     "metadata": {},
     "output_type": "execute_result"
    }
   ],
   "source": [
    "torch.manual_seed(888)\n",
    "\n",
    "from box_model import BoxEL as Model\n",
    "\n",
    "model = Model(4, 7, 2, [1e-4,0.2], [-0.1, 0], [-0.1,0.1], [0.9, 1.1], args).to(device)\n",
    "criterion = torch.nn.CrossEntropyLoss().to(device)\n",
    "optimizer = torch.optim.Adam(model.parameters(), lr=0.05)\n",
    "wandb.watch(model)\n",
    "\n",
    "model\n"
   ]
  },
  {
   "cell_type": "code",
   "execution_count": 1,
   "metadata": {},
   "outputs": [],
   "source": [
    "\n",
    "model.train()\n",
    "for epoch in range(1):\n",
    "    concept_inclusion_loss, role_inclusion_loss, nf1_loss, nf2_loss, nf3_loss, nf4_loss, disjoint_loss, nf3_neg_loss, role_inclusion_loss, role_chain_loss, concept_inclusion_reg_loss,nf1_reg_loss, nf2_reg_loss , nf3_reg_loss , nf4_reg_loss , disjoint_reg_loss , nf3_neg_reg_loss = model(train_data)\n",
    "    loss =  concept_inclusion_loss + concept_inclusion_reg_loss + role_inclusion_loss + nf1_loss + nf1_reg_loss + nf2_loss + nf2_reg_loss + disjoint_loss + disjoint_reg_loss + nf3_loss + nf3_reg_loss + nf4_loss + nf4_reg_loss + role_inclusion_loss + role_chain_loss\n",
    "    optimizer.zero_grad()\n",
    "    loss.backward()\n",
    "    optimizer.step()\n",
    "    \n",
    "    if epoch % 10 ==0:\n",
    "        min_emb, delta_emb, max_emb, rel_emb, scaling_emb = model.min_embedding, model.delta_embedding, model.min_embedding +torch.exp(model.delta_embedding), model.relation_embedding, model.scaling_embedding\n",
    "        boxes = Box(min_emb, max_emb)\n",
    "        plot_box(boxes, rel_emb, scaling_emb, epoch, loss.item())\n",
    "#     wandb.log({'train loss': loss, 'nf1_loss':nf1_loss, 'nf2_loss':nf2_loss,'nf3_loss':nf3_loss,'nf4_loss':nf4_loss,'disjoint_loss':disjoint_loss,'nf3_reg_loss':nf3_reg_loss})\n",
    "    if epoch % 10 == 0:\n",
    "        print(nf1_loss.item(), nf2_loss.item(), nf3_loss.item(), nf4_loss.item(), disjoint_loss.item(), nf3_neg_loss.item(), nf1_reg_loss.item(),nf3_reg_loss.item(), nf4_reg_loss.item() )   \n",
    "        \n",
    "        \n"
   ]
  },
  {
   "cell_type": "code",
   "execution_count": 43,
   "metadata": {},
   "outputs": [
    {
     "name": "stderr",
     "output_type": "stream",
     "text": [
      "/workspace/anaconda3/envs/box/lib/python3.6/site-packages/ipykernel_launcher.py:25: UserWarning: Setting the 'color' property will override the edgecolor or facecolor properties.\n"
     ]
    },
    {
     "data": {
      "image/png": "[encoded data removed]",
      "text/plain": [
       "<Figure size 360x288 with 1 Axes>"
      ]
     },
     "metadata": {
      "needs_background": "light"
     },
     "output_type": "display_data"
    }
   ],
   "source": [
    "\n",
    "import matplotlib.pyplot as plt\n",
    "import matplotlib.patches as mpatches\n",
    "from IPython.display import clear_output\n",
    "\n",
    "def plot_box(boxes, relation, scaling_emb, epoch, loss):\n",
    "    clear_output(wait=True)\n",
    "    plt.figure(figsize=(5,4))\n",
    "\n",
    "#     plt.subplot(121)\n",
    "    \n",
    "    labels = ['Person','Male','Parent','Femal','Father','Mother']\n",
    "    color = ['r','b','g','purple','m','c']\n",
    "    \n",
    "    # Plot individual embedding\n",
    "    x = model.entity_embedding.cpu().detach().numpy()[:,0]\n",
    "    y = model.entity_embedding.cpu().detach().numpy()[:,1]\n",
    "    label = ['Alex','Bob','Alice','Maria']\n",
    "    plt.scatter(x,y,c=['r','m','lightgreen','darkblue'])\n",
    "    for i, txt in enumerate(label):\n",
    "        plt.annotate(txt, (x[i], y[i]))\n",
    "\n",
    "    # Plot concept embedding\n",
    "    for i in range(boxes.min_embed.shape[0]-1):\n",
    "        x1,x2,w,h = boxes.min_embed[i][0],boxes.min_embed[i][1],boxes.max_embed[i][0]-boxes.min_embed[i][0], boxes.max_embed[i][1]-boxes.min_embed[i][1]\n",
    "        rect=mpatches.Rectangle((x1,x2),w,h, fill = False, color = color[i],linewidth = 2, alpha=0.6, facecolor=color[i])\n",
    "        plt.gca().add_patch(rect)\n",
    "        plt.text(x1+w-0.14,x2+h-0.05, labels[i], color = color[i])\n",
    "        \n",
    "    plt.xlim(-0.03,1.03)\n",
    "    plt.ylim(-0.03,1.03)\n",
    "    plt.savefig('toy_example.pdf', dpi=1200)\n",
    "    plt.show()\n",
    "\n",
    "plot_box(boxes, rel_emb, scaling_emb, epoch, loss.item())\n"
   ]
  },
  {
   "cell_type": "code",
   "execution_count": null,
   "metadata": {},
   "outputs": [],
   "source": []
  }
 ],
 "metadata": {
  "kernelspec": {
   "display_name": "box",
   "language": "python",
   "name": "box"
  },
  "language_info": {
   "codemirror_mode": {
    "name": "ipython",
    "version": 3
   },
   "file_extension": ".py",
   "mimetype": "text/x-python",
   "name": "python",
   "nbconvert_exporter": "python",
   "pygments_lexer": "ipython3",
   "version": "3.6.13"
  }
 },
 "nbformat": 4,
 "nbformat_minor": 2
}
